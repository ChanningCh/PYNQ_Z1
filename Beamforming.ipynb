{
 "metadata": {
  "language_info": {
   "codemirror_mode": {
    "name": "ipython",
    "version": 3
   },
   "file_extension": ".py",
   "mimetype": "text/x-python",
   "name": "python",
   "nbconvert_exporter": "python",
   "pygments_lexer": "ipython3",
   "version": "3.7.3-final"
  },
  "orig_nbformat": 2,
  "kernelspec": {
   "name": "python3",
   "display_name": "Python 3.7.3 64-bit",
   "metadata": {
    "interpreter": {
     "hash": "d97e787e1562049e1dabf0f95e344ca3de3b86e7f23f6f13646faaf4e9518a26"
    }
   }
  }
 },
 "nbformat": 4,
 "nbformat_minor": 2,
 "cells": [
  {
   "source": [
    "# 简单波束形成\n",
    "import numpy\n",
    "import pandas\n",
    "import matplotlib.pyplot\n",
    "\n",
    "SoundVelocity = 1500\n",
    "ArrayNum = 208\n",
    "FrequencyCenter = 420 * 10 ^ 3\n",
    "Bandwidth = 48 * 10 ^ 3\n",
    "FrequencyLow = FrequencyCenter - Bandwidth / 2\n",
    "SampleRate = 4e6\n",
    "Period = 1 / FrequencyCenter\n",
    "PulseWide = 1e-3\n",
    "LFM_slope = Bandwidth / PulseWide\n",
    "Amplitude = 1\n",
    "lmd = SoundVelocity / FrequencyCenter\n",
    "ArrayDistance = lmd / 2"
   ],
   "cell_type": "code",
   "metadata": {},
   "execution_count": 6,
   "outputs": [
    {
     "output_type": "stream",
     "name": "stdout",
     "text": [
      "0.00375\n"
     ]
    }
   ]
  }
 ]
}